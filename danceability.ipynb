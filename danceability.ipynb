{
 "cells": [
  {
   "cell_type": "code",
   "execution_count": 1,
   "metadata": {},
   "outputs": [],
   "source": [
    "#General imports and file-reading support.\n",
    "import os\n",
    "import sys\n",
    "import glob\n",
    "import numpy as np\n",
    "import time\n",
    "import shutil\n",
    "\n",
    "##JustSparkThings.\n",
    "from pyspark import SparkContext, SparkConf\n",
    "from pyspark.sql import SparkSession\n",
    "from pyspark.sql import functions as F\n",
    "from pyspark.sql.types import *\n",
    "from pyspark.sql import Row\n",
    "\n",
    "\n",
    "#sys.path.append('/home/ubuntu/LDSA_group9')\n",
    "#from hdf5_getters import * \n",
    "\n",
    "def dir_explorer(root): \n",
    "    file_paths = []\n",
    "    walker = os.walk(root)\n",
    "    for (path, dirnames, filenames) in walker:\n",
    "        for filename in filenames:\n",
    "            file_paths.append(os.path.join(path, filename))\n",
    "    return file_paths\n",
    "\n",
    "def get_title_year_danceability(filename):\n",
    "    f = open_h5_file_read(filename)\n",
    "    title = get_title(f)\n",
    "    duration = get_duration(f)\n",
    "    year = get_year(f)\n",
    "    f.close()\n",
    "    return (title.decode('utf-8'), year, duration)\n",
    "    \n",
    "    \n",
    "conf = SparkConf().setMaster('spark://192.168.1.82:7077').setAppName('Danceability')\n",
    "sc = SparkContext(conf=conf)\n",
    "sc.addPyFile(\"/home/ubuntu/LDSA_group9/hdf5_getters.py\")\n",
    "from hdf5_getters import *"
   ]
  },
  {
   "cell_type": "code",
   "execution_count": 2,
   "metadata": {},
   "outputs": [],
   "source": [
    "root_directory = \"/home/ubuntu/data\"\n",
    "file_paths = dir_explorer(root_directory)"
   ]
  },
  {
   "cell_type": "code",
   "execution_count": 3,
   "metadata": {},
   "outputs": [],
   "source": [
    "def map_average(entry):\n",
    "    return (entry[1], (1, entry[2])) "
   ]
  },
  {
   "cell_type": "code",
   "execution_count": 4,
   "metadata": {},
   "outputs": [],
   "source": [
    "def reduce_average(a, b):\n",
    "    count = a[0]+b[0]\n",
    "    return count, (a[0]*a[1]+b[0]*b[1])/count"
   ]
  },
  {
   "cell_type": "code",
   "execution_count": 5,
   "metadata": {},
   "outputs": [],
   "source": [
    "start_time = time.time()"
   ]
  },
  {
   "cell_type": "code",
   "execution_count": 6,
   "metadata": {},
   "outputs": [],
   "source": [
    "filepath_rdd = sc.parallelize(file_paths[0:int(len(file_paths)*(5/5))]).repartition(15).cache()"
   ]
  },
  {
   "cell_type": "code",
   "execution_count": 7,
   "metadata": {},
   "outputs": [],
   "source": [
    "song_rdd = filepath_rdd.map(get_title_year_danceability).cache()"
   ]
  },
  {
   "cell_type": "code",
   "execution_count": 8,
   "metadata": {},
   "outputs": [],
   "source": [
    "filtered_song_rdd = song_rdd.filter(lambda x: x[2] != 0.0 and x[1] != 0).cache()"
   ]
  },
  {
   "cell_type": "code",
   "execution_count": 9,
   "metadata": {},
   "outputs": [],
   "source": [
    "filtered_song_rdd_average_mapped = filtered_song_rdd.map(map_average).cache()"
   ]
  },
  {
   "cell_type": "code",
   "execution_count": 10,
   "metadata": {},
   "outputs": [],
   "source": [
    "filtered_song_rdd_average_reduced = filtered_song_rdd_average_mapped.reduceByKey(reduce_average).sortBy(keyfunc=lambda x: x[1][1],ascending=False).cache()"
   ]
  },
  {
   "cell_type": "code",
   "execution_count": 11,
   "metadata": {},
   "outputs": [],
   "source": [
    "if os.path.isdir(\"/home/ubuntu/results/song_duration.txt\"):\n",
    "    shutil.rmtree(\"/home/ubuntu/results/song_duration.txt\")\n",
    "filtered_song_rdd_average_reduced.saveAsTextFile(\"/home/ubuntu/results/song_duration.txt\")"
   ]
  },
  {
   "cell_type": "code",
   "execution_count": 12,
   "metadata": {},
   "outputs": [],
   "source": [
    "#filtered_song_rdd_average_reduced.take(10)"
   ]
  },
  {
   "cell_type": "code",
   "execution_count": 13,
   "metadata": {},
   "outputs": [],
   "source": [
    "execution_time = time.time()-start_time"
   ]
  },
  {
   "cell_type": "code",
   "execution_count": 14,
   "metadata": {},
   "outputs": [],
   "source": [
    "sc.stop()"
   ]
  },
  {
   "cell_type": "code",
   "execution_count": 15,
   "metadata": {},
   "outputs": [
    {
     "name": "stdout",
     "output_type": "stream",
     "text": [
      "196.9419503211975\n"
     ]
    }
   ],
   "source": [
    "print(execution_time)"
   ]
  },
  {
   "cell_type": "code",
   "execution_count": null,
   "metadata": {},
   "outputs": [],
   "source": []
  },
  {
   "cell_type": "code",
   "execution_count": null,
   "metadata": {},
   "outputs": [],
   "source": []
  },
  {
   "cell_type": "code",
   "execution_count": null,
   "metadata": {},
   "outputs": [],
   "source": []
  }
 ],
 "metadata": {
  "kernelspec": {
   "display_name": "Python 3",
   "language": "python",
   "name": "python3"
  },
  "language_info": {
   "codemirror_mode": {
    "name": "ipython",
    "version": 3
   },
   "file_extension": ".py",
   "mimetype": "text/x-python",
   "name": "python",
   "nbconvert_exporter": "python",
   "pygments_lexer": "ipython3",
   "version": "3.5.2"
  }
 },
 "nbformat": 4,
 "nbformat_minor": 2
}
